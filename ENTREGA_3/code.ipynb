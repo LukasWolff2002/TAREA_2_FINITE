{
 "cells": [
  {
   "cell_type": "code",
   "execution_count": 7,
   "id": "90e6e42a",
   "metadata": {},
   "outputs": [
    {
     "name": "stdout",
     "output_type": "stream",
     "text": [
      "Info    : Reading 'malla.geo'...\n",
      "Info    : Done reading 'malla.geo'\n",
      "Info    : Meshing 1D...\n",
      "Info    : [  0%] Meshing curve 101 (Circle)\n",
      "Info    : [ 10%] Meshing curve 102 (Line)\n",
      "Info    : [ 10%] Meshing curve 103 (Circle)\n",
      "Info    : [ 20%] Meshing curve 104 (Line)\n",
      "Info    : [ 20%] Meshing curve 201 (Circle)\n",
      "Info    : [ 30%] Meshing curve 202 (Circle)\n",
      "Info    : [ 30%] Meshing curve 203 (Line)\n",
      "Info    : [ 30%] Meshing curve 204 (Line)\n",
      "Info    : [ 40%] Meshing curve 205 (Circle)\n",
      "Info    : [ 40%] Meshing curve 206 (Circle)\n",
      "Info    : [ 50%] Meshing curve 207 (Circle)\n",
      "Info    : [ 50%] Meshing curve 208 (Circle)\n",
      "Info    : [ 60%] Meshing curve 301 (Line)\n",
      "Info    : [ 60%] Meshing curve 302 (Line)\n",
      "Info    : [ 60%] Meshing curve 303 (Circle)\n",
      "Info    : [ 70%] Meshing curve 304 (Circle)\n",
      "Info    : [ 70%] Meshing curve 305 (Circle)\n",
      "Info    : [ 80%] Meshing curve 306 (Line)\n",
      "Info    : [ 80%] Meshing curve 307 (Line)\n",
      "Info    : [ 80%] Meshing curve 401 (Line)\n",
      "Info    : [ 90%] Meshing curve 402 (Line)\n",
      "Info    : [ 90%] Meshing curve 403 (Circle)\n",
      "Info    : [100%] Meshing curve 404 (Circle)\n",
      "Info    : [100%] Meshing curve 405 (Circle)\n",
      "Info    : Done meshing 1D (Wall 0.00226037s, CPU 0.002502s)\n",
      "Info    : Meshing 2D...\n",
      "Info    : [  0%] Meshing surface 1 (Plane, Frontal-Delaunay)\n",
      "Info    : [ 30%] Meshing surface 3 (Plane, Frontal-Delaunay)\n",
      "Info    : [ 60%] Meshing surface 4 (Plane, Frontal-Delaunay)\n",
      "Info    : [ 80%] Meshing surface 5 (Plane, Frontal-Delaunay)\n",
      "Info    : Done meshing 2D (Wall 0.0526712s, CPU 0.052071s)\n",
      "Info    : 2669 nodes 5539 elements\n",
      "Info    : Writing 'malla.msh'...\n",
      "✅ Malla generada y guardada como: malla.msh\n",
      "Info    : Done writing 'malla.msh'\n"
     ]
    }
   ],
   "source": [
    "import gmsh\n",
    "import os\n",
    "\n",
    "# Inicializar Gmsh\n",
    "gmsh.initialize()\n",
    "gmsh.model.add(\"modelo_llaves\")\n",
    "\n",
    "# Ruta del archivo .geo\n",
    "ruta_geo = \"malla.geo\"\n",
    "\n",
    "# Verifica si el archivo existe\n",
    "if not os.path.isfile(ruta_geo):\n",
    "    raise FileNotFoundError(f\"❌ No se encontró el archivo: {ruta_geo}\")\n",
    "\n",
    "# Cargar geometría desde archivo .geo\n",
    "gmsh.merge(ruta_geo)\n",
    "\n",
    "# Generar malla 2D\n",
    "gmsh.model.mesh.generate(2)\n",
    "\n",
    "# Exportar malla\n",
    "ruta_salida = \"malla.msh\"\n",
    "gmsh.write(ruta_salida)\n",
    "\n",
    "print(f\"✅ Malla generada y guardada como: {ruta_salida}\")\n",
    "\n",
    "# Finalizar Gmsh\n",
    "gmsh.finalize()\n"
   ]
  }
 ],
 "metadata": {
  "kernelspec": {
   "display_name": "Python 3",
   "language": "python",
   "name": "python3"
  },
  "language_info": {
   "codemirror_mode": {
    "name": "ipython",
    "version": 3
   },
   "file_extension": ".py",
   "mimetype": "text/x-python",
   "name": "python",
   "nbconvert_exporter": "python",
   "pygments_lexer": "ipython3",
   "version": "3.12.5"
  }
 },
 "nbformat": 4,
 "nbformat_minor": 5
}
