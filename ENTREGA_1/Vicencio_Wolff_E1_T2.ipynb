{
  "nbformat": 4,
  "nbformat_minor": 0,
  "metadata": {
    "colab": {
      "provenance": []
    },
    "kernelspec": {
      "name": "python3",
      "display_name": "Python 3"
    },
    "language_info": {
      "name": "python"
    }
  },
  "cells": [
    {
      "cell_type": "code",
      "execution_count": 1,
      "metadata": {
        "colab": {
          "base_uri": "https://localhost:8080/"
        },
        "id": "-4rMZw7-38Om",
        "outputId": "1fc014c3-0f6b-4d5b-8d5e-46c1f8d79598"
      },
      "outputs": [
        {
          "output_type": "stream",
          "name": "stdout",
          "text": [
            "Cloning into 'TAREA_2_FINITE'...\n",
            "remote: Enumerating objects: 272, done.\u001b[K\n",
            "remote: Counting objects: 100% (272/272), done.\u001b[K\n",
            "remote: Compressing objects: 100% (176/176), done.\u001b[K\n",
            "remote: Total 272 (delta 124), reused 238 (delta 90), pack-reused 0 (from 0)\u001b[K\n",
            "Receiving objects: 100% (272/272), 93.36 KiB | 682.00 KiB/s, done.\n",
            "Resolving deltas: 100% (124/124), done.\n"
          ]
        }
      ],
      "source": [
        "!git clone https://github.com/LukasWolff2002/TAREA_2_FINITE"
      ]
    },
    {
      "cell_type": "code",
      "source": [
        "%cd TAREA_2_FINITE/ENTREGA_1/"
      ],
      "metadata": {
        "colab": {
          "base_uri": "https://localhost:8080/"
        },
        "id": "WQiMEaJG4HPh",
        "outputId": "6600bf9c-f253-4864-eb10-b21b9d06a139"
      },
      "execution_count": 2,
      "outputs": [
        {
          "output_type": "stream",
          "name": "stdout",
          "text": [
            "/content/TAREA_2_FINITE/ENTREGA_1\n"
          ]
        }
      ]
    },
    {
      "cell_type": "code",
      "source": [
        "from nodes import Node\n",
        "from cst import CST\n",
        "from section import Section\n",
        "import numpy as np"
      ],
      "metadata": {
        "id": "awIxYqjj4Lov"
      },
      "execution_count": 3,
      "outputs": []
    },
    {
      "cell_type": "markdown",
      "source": [
        "Se probará el ejemplo de la sección 15.3.6 del Capítulo 15.\n",
        "Para este ejemplo, se restringieron los movimientos del nodo 1 y el desplazamiento en y del nodo 2 para poder realizar las operaciones matriciales, dado que el elemento no puede rotar. Además, se aplicó una fuerza de cuerpo en un punto cualquiera dentro del elemento, dando como resultado la redistribución de esfuerzos mayores a los nodos más cercanos al punto de carga."
      ],
      "metadata": {
        "id": "ORXIjt25bEbD"
      }
    },
    {
      "cell_type": "code",
      "source": [
        "# Nodos\n",
        "node1 = Node(1, 0.0, 0.0, [0, 1], restrain=[1, 1]) #Restricciones para no hacerlo mecanismo\n",
        "node2 = Node(2, 3.0, 1.0, [2, 3], restrain=[0, 1])\n",
        "node3 = Node(3, 2.0, 2.0, [4, 5], restrain=[0, 0])\n",
        "nodes = [node1, node2, node3]\n",
        "\n",
        "# Sección\n",
        "E = 8*np.array([[4,1,0], [1,4,0],[0,0,2]])\n",
        "t = 1 # Espesor de la sección\n",
        "section = Section(thickness=t, E=E, nu=0.3)\n",
        "\n",
        "# Elemento CST\n",
        "element = CST(1, [node1, node2, node3], section)\n",
        "\n",
        "# Imprimir resumen\n",
        "element.printSummary()\n",
        "# Aplicar una fuerza puntual como carga interna en punto (2.0, 1.5) cualquiera\n",
        "F_interna = element.apply_point_body_force(x=2.0, y=1.5,force_vector=[0, -1000], use_centroid=False)\n",
        "\n",
        "# Resolver con esta fuerza\n",
        "u, f, K = element.ensamblar_y_resolver(F_interna, nodes)\n",
        "\n",
        "u.flatten(), f.flatten(), K\n",
        "\n",
        "# Mostrar desplazamientos por nodo\n",
        "print(\"\\nDesplazamientos por nodo:\")\n",
        "for node in nodes:\n",
        "    ux = u[node.dofs[0]][0]\n",
        "    uy = u[node.dofs[1]][0]\n",
        "    print(f\"Nodo {node.id}: ux = {ux:.4e} m, uy = {uy:.4e} m\")\n",
        "\n",
        "\"\"\"\n",
        "Los desplazamientos son de gran magnitud porque solo se tiene un nodo restringido, la fuerza es muy grande y el\n",
        "módulo de elasticidad es muy bajo.\n",
        "\"\"\"\n",
        "\n",
        "\n",
        "element.plotGeometry()"
      ],
      "metadata": {
        "colab": {
          "base_uri": "https://localhost:8080/",
          "height": 1000
        },
        "id": "EjJU1wKS4q4z",
        "outputId": "9dccf562-5099-4935-b603-4aa2bab9396f"
      },
      "execution_count": 7,
      "outputs": [
        {
          "output_type": "stream",
          "name": "stdout",
          "text": [
            "\n",
            "CST Element 1\n",
            "Type: planeStress\n",
            "Nodes:\n",
            "  Node 1: (0.0, 0.0) DOFs: [0 1]\n",
            "  Node 2: (3.0, 1.0) DOFs: [2 3]\n",
            "  Node 3: (2.0, 2.0) DOFs: [4 5]\n",
            "\n",
            "DOF indices: [0 1 2 3 4 5]\n",
            "Area: 2.0000\n",
            "\n",
            "XY matrix:\n",
            " [[0. 0.]\n",
            " [3. 1.]\n",
            " [2. 2.]]\n",
            "Centroid: [1.66666667 1.        ]\n",
            "\n",
            "Matrix B:\n",
            " [[-0.25  0.    0.5   0.   -0.25  0.  ]\n",
            " [ 0.   -0.25  0.   -0.5   0.    0.75]\n",
            " [-0.25 -0.25 -0.5   0.5   0.75 -0.25]]\n",
            "\n",
            "Stiffness Matrix Ke:\n",
            " [[  6.   3.  -4.  -2.  -2.  -1.]\n",
            " [  3.   6.   2.   4.  -5. -10.]\n",
            " [ -4.   2.  24. -12. -20.  10.]\n",
            " [ -2.   4. -12.  24.  14. -28.]\n",
            " [ -2.  -5. -20.  14.  22.  -9.]\n",
            " [ -1. -10.  10. -28.  -9.  38.]]\n",
            "\n",
            "Fuerza puntual en punto interno del elemento:\n",
            "Ubicación: (2.00, 1.50)\n",
            "Fuerza: [0, -1000]\n",
            "Fuerzas nodales equivalentes: [   0. -125.    0. -250.    0. -625.]\n",
            "\n",
            "Desplazamientos por nodo:\n",
            "Nodo 1: ux = 0.0000e+00 m, uy = 0.0000e+00 m\n",
            "Nodo 2: ux = 5.7870e+00 m, uy = 0.0000e+00 m\n",
            "Nodo 3: ux = -2.3148e+00 m, uy = -1.8519e+01 m\n"
          ]
        },
        {
          "output_type": "display_data",
          "data": {
            "text/plain": [
              "<Figure size 640x480 with 1 Axes>"
            ],
            "image/png": "[encoded data removed]"
          },
          "metadata": {}
        }
      ]
    },
    {
      "cell_type": "markdown",
      "source": [
        "Ahora, se probará el ejercicio 15.5 del mismo capítulo.\n",
        "En este caso, se modificó la matriz de elasticidad para analizar como varía la rigidez del elemento y como cambian las deformaciones de este. Así mismo, se aplicó una *body force*, pero en el centroide del elemento. Esto dió una distribución homogénea de los esfuerzos nodales, ya que se debe cumplir con la restricción de las variables ξ."
      ],
      "metadata": {
        "id": "uKsu6xLUbTdg"
      }
    },
    {
      "cell_type": "code",
      "source": [],
      "metadata": {
        "id": "7TOAE6LzeBMa"
      },
      "execution_count": null,
      "outputs": []
    },
    {
      "cell_type": "code",
      "source": [
        "# Nodos\n",
        "node1 = Node(1, 0.0, 0.0, [0, 1], restrain=[1, 1]) #Restricciones para no hacerlo mecanismo\n",
        "node2 = Node(2, 3.0, 1.0, [2, 3], restrain=[0, 1])\n",
        "node3 = Node(3, 2.0, 2.0, [4, 5], restrain=[0, 0])\n",
        "nodes = [node1, node2, node3]\n",
        "\n",
        "# Sección\n",
        "E = np.array([[100,25,0],[25,100,0],[0,0,50]])\n",
        "t = 1 # Espesor de la sección\n",
        "section = Section(thickness=t, E=E, nu=0.3)\n",
        "\n",
        "# Elemento CST\n",
        "element = CST(1, [node1, node2, node3], section)\n",
        "\n",
        "# Imprimir resumen\n",
        "element.printSummary()\n",
        "# Aplicar una fuerza puntual como carga interna en punto (2.0, 1.5) cualquiera\n",
        "F_interna = element.apply_point_body_force(x=2.0, y=1.5,force_vector=[0, -1000], use_centroid=True)\n",
        "\n",
        "# Resolver con esta fuerza\n",
        "u, f, K = element.ensamblar_y_resolver(F_interna, nodes)\n",
        "\n",
        "u.flatten(), f.flatten(), K\n",
        "\n",
        "# Mostrar desplazamientos por nodo\n",
        "print(\"\\nDesplazamientos por nodo:\")\n",
        "for node in nodes:\n",
        "    ux = u[node.dofs[0]][0]\n",
        "    uy = u[node.dofs[1]][0]\n",
        "    print(f\"Nodo {node.id}: ux = {ux:.4e} m, uy = {uy:.4e} m\")\n",
        "\n",
        "\"\"\"\n",
        "Los desplazamientos son de gran magnitud porque solo se tiene un nodo restringido, la fuerza es muy grande y el\n",
        "módulo de elasticidad es muy bajo.\n",
        "\"\"\"\n",
        "\n",
        "\n",
        "element.plotGeometry()"
      ],
      "metadata": {
        "colab": {
          "base_uri": "https://localhost:8080/",
          "height": 1000
        },
        "id": "jXNxy3-DbTKV",
        "outputId": "5890bcd8-53bf-43d4-bf36-6ca6674a6bc0"
      },
      "execution_count": 8,
      "outputs": [
        {
          "output_type": "stream",
          "name": "stdout",
          "text": [
            "\n",
            "CST Element 1\n",
            "Type: planeStress\n",
            "Nodes:\n",
            "  Node 1: (0.0, 0.0) DOFs: [0 1]\n",
            "  Node 2: (3.0, 1.0) DOFs: [2 3]\n",
            "  Node 3: (2.0, 2.0) DOFs: [4 5]\n",
            "\n",
            "DOF indices: [0 1 2 3 4 5]\n",
            "Area: 2.0000\n",
            "\n",
            "XY matrix:\n",
            " [[0. 0.]\n",
            " [3. 1.]\n",
            " [2. 2.]]\n",
            "Centroid: [1.66666667 1.        ]\n",
            "\n",
            "Matrix B:\n",
            " [[-0.25  0.    0.5   0.   -0.25  0.  ]\n",
            " [ 0.   -0.25  0.   -0.5   0.    0.75]\n",
            " [-0.25 -0.25 -0.5   0.5   0.75 -0.25]]\n",
            "\n",
            "Stiffness Matrix Ke:\n",
            " [[ 18.75    9.375 -12.5    -6.25   -6.25   -3.125]\n",
            " [  9.375  18.75    6.25   12.5   -15.625 -31.25 ]\n",
            " [-12.5     6.25   75.    -37.5   -62.5    31.25 ]\n",
            " [ -6.25   12.5   -37.5    75.     43.75  -87.5  ]\n",
            " [ -6.25  -15.625 -62.5    43.75   68.75  -28.125]\n",
            " [ -3.125 -31.25   31.25  -87.5   -28.125 118.75 ]]\n",
            "\n",
            "Fuerza puntual en punto interno del elemento:\n",
            "Ubicación: (1.67, 1.00)\n",
            "Fuerza: [0, -1000]\n",
            "Fuerzas nodales equivalentes: [   0.   -333.33    0.   -333.33    0.   -333.33]\n",
            "\n",
            "Desplazamientos por nodo:\n",
            "Nodo 1: ux = 0.0000e+00 m, uy = 0.0000e+00 m\n",
            "Nodo 2: ux = 9.8765e-01 m, uy = 0.0000e+00 m\n",
            "Nodo 3: ux = -3.9506e-01 m, uy = -3.1605e+00 m\n"
          ]
        },
        {
          "output_type": "display_data",
          "data": {
            "text/plain": [
              "<Figure size 640x480 with 1 Axes>"
            ],
            "image/png": "[encoded data removed]"
          },
          "metadata": {}
        }
      ]
    }
  ]
}